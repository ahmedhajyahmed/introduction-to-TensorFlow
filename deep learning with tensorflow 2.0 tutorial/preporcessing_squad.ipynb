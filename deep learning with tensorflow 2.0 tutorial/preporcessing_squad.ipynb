{
 "cells": [
  {
   "cell_type": "code",
   "execution_count": 1,
   "metadata": {},
   "outputs": [
    {
     "name": "stdout",
     "output_type": "stream",
     "text": [
      "1 Physical GPUs, 1 Logical GPUs\n"
     ]
    }
   ],
   "source": [
    "import numpy as np\n",
    "import tensorflow as tf\n",
    "import tensorflow_datasets as tfds\n",
    "from ipywidgets import IntProgress\n",
    "gpus = tf.config.experimental.list_physical_devices('GPU')\n",
    "if gpus:\n",
    "  try:\n",
    "    # Currently, memory growth needs to be the same across GPUs\n",
    "    for gpu in gpus:\n",
    "      tf.config.experimental.set_memory_growth(gpu, True)\n",
    "    logical_gpus = tf.config.experimental.list_logical_devices('GPU')\n",
    "    print(len(gpus), \"Physical GPUs,\", len(logical_gpus), \"Logical GPUs\")\n",
    "  except RuntimeError as e:\n",
    "    # Memory growth must be set before GPUs have been initialized\n",
    "    print(e)"
   ]
  },
  {
   "cell_type": "code",
   "execution_count": 2,
   "metadata": {},
   "outputs": [],
   "source": [
    "squad_dataset, squad_info = tfds.load('squad', with_info= True)"
   ]
  },
  {
   "cell_type": "code",
   "execution_count": 3,
   "metadata": {},
   "outputs": [],
   "source": [
    "squad_train, squad_validation = squad_dataset['train'], squad_dataset['validation']"
   ]
  },
  {
   "cell_type": "code",
   "execution_count": 4,
   "metadata": {},
   "outputs": [
    {
     "name": "stdout",
     "output_type": "stream",
     "text": [
      "tf.Tensor(8759, shape=(), dtype=int64)\n",
      "tf.Tensor(87599, shape=(), dtype=int64)\n",
      "tf.Tensor(10570, shape=(), dtype=int64)\n"
     ]
    }
   ],
   "source": [
    "# for example in squad_train.take(4):\n",
    "#     print(example)\n",
    "num_test_samples = 0.1 * squad_info.splits['train'].num_examples\n",
    "num_test_samples =  tf.cast(num_test_samples, tf.int64)\n",
    "print(num_test_samples)\n",
    "num_train_samples = squad_info.splits['train'].num_examples\n",
    "num_train_samples = tf.cast(num_train_samples, tf.int64)\n",
    "print(num_train_samples)\n",
    "num_validation_samples = squad_info.splits['validation'].num_examples\n",
    "num_validation_samples = tf.cast(num_validation_samples, tf.int64)\n",
    "print(num_validation_samples)"
   ]
  },
  {
   "cell_type": "code",
   "execution_count": 5,
   "metadata": {},
   "outputs": [],
   "source": [
    "# suffling : keeping the same information but in different order\n",
    "\n",
    "# when we are dealing with enormous dataset, we can't suffle all data at once\n",
    "BUFFER_SIZE = 10000\n",
    "\n",
    "shuffled_train_and_test_data = squad_train.shuffle(BUFFER_SIZE)\n",
    "\n",
    "test_data = shuffled_train_and_test_data.take(num_test_samples)\n",
    "train_data = shuffled_train_and_test_data.skip(num_test_samples)\n",
    "validation_data = squad_validation"
   ]
  },
  {
   "cell_type": "code",
   "execution_count": 35,
   "metadata": {},
   "outputs": [
    {
     "data": {
      "text/plain": [
       "['British Somaliland became independent on 26 June 1960 as the State of Somaliland, and the Trust Territory of Somalia (the former Italian Somaliland) followed suit five days later. On 1 July 1960, the two territories united to form the Somali Republic, albeit within boundaries drawn up by Italy and Britain. A government was formed by Abdullahi Issa Mohamud and Muhammad Haji Ibrahim Egal other members of the trusteeship and protectorate governments, with Haji Bashir Ismail Yusuf as President of the Somali National Assembly, Aden Abdullah Osman Daar as the President of the Somali Republic and Abdirashid Ali Shermarke as Prime Minister (later to become President from 1967 to 1969). On 20 July 1961 and through a popular referendum, the people of Somalia ratified a new constitution, which was first drafted in 1960. In 1967, Muhammad Haji Ibrahim Egal became Prime Minister, a position to which he was appointed by Shermarke. Egal would later become the President of the autonomous Somaliland region in northwestern Somalia.',\n",
       " 'The northeastern Puntland region has around six private radio stations, including Radio Garowe, Radio Daljir, Radio Codka-Nabbada and Radio Codka-Mudug. Radio Gaalkacyo, formerly known as Radio Free Somalia, operates from Galkayo in the north-central Mudug province. Additionally, the Somaliland region in the northwest has one government-operated radio station.']"
      ]
     },
     "execution_count": 35,
     "metadata": {},
     "output_type": "execute_result"
    }
   ],
   "source": [
    "# train_answers= next(iter(train_data))\n",
    "# train_answers\n",
    "# answers = []\n",
    "# for sample in train_data.take(3):\n",
    "#     answers.append(sample['answers'])\n",
    "# answers\n",
    "\n",
    "test = train_data.take(2)\n",
    "test = list(test.as_numpy_iterator())\n",
    "answers = []\n",
    "context = []\n",
    "question = []\n",
    "for element in test:\n",
    "    answers.append(element['answers'])\n",
    "    context.append(element['context'].decode('utf-8'))\n",
    "    question.append(element['question'].decode('utf-8'))\n",
    "# answers\n",
    "# question\n",
    "context\n",
    "# answer = test[0]['context'].decode('utf-8')\n",
    "# answer\n",
    "# test = iter(train_data.take(2))\n",
    "# answers =next(test)\n",
    "# a = next(test)\n",
    "# print(answers)\n",
    "# print('\\n a \\n ')\n",
    "# print(a)"
   ]
  },
  {
   "cell_type": "code",
   "execution_count": null,
   "metadata": {},
   "outputs": [],
   "source": []
  }
 ],
 "metadata": {
  "kernelspec": {
   "display_name": "Python [conda env:tensorflow] *",
   "language": "python",
   "name": "conda-env-tensorflow-py"
  },
  "language_info": {
   "codemirror_mode": {
    "name": "ipython",
    "version": 3
   },
   "file_extension": ".py",
   "mimetype": "text/x-python",
   "name": "python",
   "nbconvert_exporter": "python",
   "pygments_lexer": "ipython3",
   "version": "3.6.10"
  }
 },
 "nbformat": 4,
 "nbformat_minor": 4
}
