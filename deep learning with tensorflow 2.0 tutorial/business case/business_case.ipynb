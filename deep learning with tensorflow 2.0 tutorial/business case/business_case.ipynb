{
 "cells": [
  {
   "cell_type": "code",
   "execution_count": 2,
   "metadata": {},
   "outputs": [],
   "source": [
    "import numpy as np\n",
    "import tensorflow as tf"
   ]
  },
  {
   "cell_type": "markdown",
   "metadata": {},
   "source": [
    "### load the data"
   ]
  },
  {
   "cell_type": "code",
   "execution_count": 3,
   "metadata": {},
   "outputs": [],
   "source": [
    "npz = np.load('dataset/Audiobooks_data_train.npz')\n",
    "train_inputs, train_targets = npz['inputs'].astype(np.float), npz['targets'].astype(np.int)\n",
    "\n",
    "npz = np.load('dataset/Audiobooks_data_validation.npz')\n",
    "validation_inputs, validation_targets = npz['inputs'].astype(np.float), npz['targets'].astype(np.int)\n",
    "\n",
    "npz = np.load('dataset/Audiobooks_data_test.npz')\n",
    "test_inputs, test_targets = npz['inputs'].astype(np.float), npz['targets'].astype(np.int)"
   ]
  },
  {
   "cell_type": "markdown",
   "metadata": {},
   "source": [
    "###  model\n",
    "outline , optimizer , loss , early stopping and training"
   ]
  },
  {
   "cell_type": "code",
   "execution_count": 9,
   "metadata": {},
   "outputs": [
    {
     "name": "stdout",
     "output_type": "stream",
     "text": [
      "Train on 3579 samples, validate on 447 samples\n",
      "Epoch 1/100\n",
      "3579/3579 - 0s - loss: 0.5326 - accuracy: 0.7801 - val_loss: 0.3726 - val_accuracy: 0.9016\n",
      "Epoch 2/100\n",
      "3579/3579 - 0s - loss: 0.3672 - accuracy: 0.8776 - val_loss: 0.2832 - val_accuracy: 0.9150\n",
      "Epoch 3/100\n",
      "3579/3579 - 0s - loss: 0.3234 - accuracy: 0.8835 - val_loss: 0.2641 - val_accuracy: 0.9172\n",
      "Epoch 4/100\n",
      "3579/3579 - 0s - loss: 0.3030 - accuracy: 0.8866 - val_loss: 0.2550 - val_accuracy: 0.9195\n",
      "Epoch 5/100\n",
      "3579/3579 - 0s - loss: 0.2887 - accuracy: 0.8919 - val_loss: 0.2411 - val_accuracy: 0.9195\n",
      "Epoch 6/100\n",
      "3579/3579 - 0s - loss: 0.2783 - accuracy: 0.8958 - val_loss: 0.2390 - val_accuracy: 0.9172\n",
      "Epoch 7/100\n",
      "3579/3579 - 0s - loss: 0.2708 - accuracy: 0.8983 - val_loss: 0.2321 - val_accuracy: 0.9195\n",
      "Epoch 8/100\n",
      "3579/3579 - 0s - loss: 0.2646 - accuracy: 0.8997 - val_loss: 0.2304 - val_accuracy: 0.9195\n",
      "Epoch 9/100\n",
      "3579/3579 - 0s - loss: 0.2597 - accuracy: 0.8994 - val_loss: 0.2318 - val_accuracy: 0.9172\n",
      "Epoch 10/100\n",
      "3579/3579 - 0s - loss: 0.2570 - accuracy: 0.9011 - val_loss: 0.2247 - val_accuracy: 0.9217\n",
      "Epoch 11/100\n",
      "3579/3579 - 0s - loss: 0.2533 - accuracy: 0.9030 - val_loss: 0.2253 - val_accuracy: 0.9195\n",
      "Epoch 12/100\n",
      "3579/3579 - 0s - loss: 0.2490 - accuracy: 0.9028 - val_loss: 0.2246 - val_accuracy: 0.9239\n",
      "Epoch 13/100\n",
      "3579/3579 - 0s - loss: 0.2487 - accuracy: 0.9033 - val_loss: 0.2206 - val_accuracy: 0.9262\n",
      "Epoch 14/100\n",
      "3579/3579 - 0s - loss: 0.2470 - accuracy: 0.9039 - val_loss: 0.2245 - val_accuracy: 0.9262\n",
      "Epoch 15/100\n",
      "3579/3579 - 0s - loss: 0.2436 - accuracy: 0.9072 - val_loss: 0.2184 - val_accuracy: 0.9239\n",
      "Epoch 16/100\n",
      "3579/3579 - 0s - loss: 0.2436 - accuracy: 0.9067 - val_loss: 0.2235 - val_accuracy: 0.9284\n",
      "Epoch 17/100\n",
      "3579/3579 - 0s - loss: 0.2398 - accuracy: 0.9072 - val_loss: 0.2140 - val_accuracy: 0.9262\n",
      "Epoch 18/100\n",
      "3579/3579 - 0s - loss: 0.2410 - accuracy: 0.9081 - val_loss: 0.2139 - val_accuracy: 0.9284\n",
      "Epoch 19/100\n",
      "3579/3579 - 0s - loss: 0.2361 - accuracy: 0.9100 - val_loss: 0.2100 - val_accuracy: 0.9262\n",
      "Epoch 20/100\n",
      "3579/3579 - 0s - loss: 0.2369 - accuracy: 0.9100 - val_loss: 0.2154 - val_accuracy: 0.9284\n",
      "Epoch 21/100\n",
      "3579/3579 - 0s - loss: 0.2350 - accuracy: 0.9117 - val_loss: 0.2175 - val_accuracy: 0.9306\n"
     ]
    },
    {
     "data": {
      "text/plain": [
       "<tensorflow.python.keras.callbacks.History at 0x340c3d7588>"
      ]
     },
     "execution_count": 9,
     "metadata": {},
     "output_type": "execute_result"
    }
   ],
   "source": [
    "input_size = 10\n",
    "output_size = 2\n",
    "hidden_layers_size = 50\n",
    "\n",
    "model = tf.keras.Sequential([\n",
    "                        tf.keras.layers.Dense(hidden_layers_size, activation='relu'),\n",
    "                        tf.keras.layers.Dense(hidden_layers_size, activation='relu'),\n",
    "                        tf.keras.layers.Dense(output_size, activation='softmax'),\n",
    "                    ])\n",
    "\n",
    "model.compile(optimizer= 'adam', loss='sparse_categorical_crossentropy', metrics =['accuracy'])\n",
    "\n",
    "batch_size = 100\n",
    "max_epochs = 100\n",
    "early_stoping = tf.keras.callbacks.EarlyStopping(patience= 2 )\n",
    "\n",
    "model.fit(\n",
    "            train_inputs,\n",
    "            train_targets,\n",
    "            batch_size = batch_size,\n",
    "            epochs = max_epochs,\n",
    "            callbacks = [early_stoping],\n",
    "            validation_data = (validation_inputs, validation_targets),\n",
    "            verbose = 2\n",
    "         )"
   ]
  },
  {
   "cell_type": "markdown",
   "metadata": {},
   "source": [
    "### test the model"
   ]
  },
  {
   "cell_type": "code",
   "execution_count": 10,
   "metadata": {},
   "outputs": [
    {
     "name": "stdout",
     "output_type": "stream",
     "text": [
      "448/448 [==============================] - 0s 531us/sample - loss: 0.2503 - accuracy: 0.9129\n",
      "\n",
      " test loss : 0.25 . test accuracy  91.29 %\n"
     ]
    }
   ],
   "source": [
    "test_loss, test_accuracy = model.evaluate(test_inputs,test_targets)\n",
    "print('\\n test loss : {0:.2f} . test accuracy  {1:.2f} %'.format(test_loss, test_accuracy*100.))"
   ]
  },
  {
   "cell_type": "code",
   "execution_count": null,
   "metadata": {},
   "outputs": [],
   "source": []
  }
 ],
 "metadata": {
  "kernelspec": {
   "display_name": "Python [conda env:tensorflow] *",
   "language": "python",
   "name": "conda-env-tensorflow-py"
  },
  "language_info": {
   "codemirror_mode": {
    "name": "ipython",
    "version": 3
   },
   "file_extension": ".py",
   "mimetype": "text/x-python",
   "name": "python",
   "nbconvert_exporter": "python",
   "pygments_lexer": "ipython3",
   "version": "3.6.10"
  }
 },
 "nbformat": 4,
 "nbformat_minor": 4
}
