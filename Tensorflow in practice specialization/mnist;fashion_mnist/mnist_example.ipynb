{
 "cells": [
  {
   "cell_type": "code",
   "execution_count": 1,
   "metadata": {},
   "outputs": [
    {
     "name": "stdout",
     "output_type": "stream",
     "text": [
      "1 Physical GPUs, 1 Logical GPUs\n"
     ]
    }
   ],
   "source": [
    "import tensorflow as tf\n",
    "from os import path, getcwd, chdir\n",
    "gpus = tf.config.experimental.list_physical_devices('GPU')\n",
    "if gpus:\n",
    "  try:\n",
    "    # Currently, memory growth needs to be the same across GPUs\n",
    "    for gpu in gpus:\n",
    "      tf.config.experimental.set_memory_growth(gpu, True)\n",
    "    logical_gpus = tf.config.experimental.list_logical_devices('GPU')\n",
    "    print(len(gpus), \"Physical GPUs,\", len(logical_gpus), \"Logical GPUs\")\n",
    "  except RuntimeError as e:\n",
    "    # Memory growth must be set before GPUs have been initialized\n",
    "    print(e)"
   ]
  },
  {
   "cell_type": "code",
   "execution_count": 2,
   "metadata": {},
   "outputs": [],
   "source": [
    "path = f\"{getcwd()}/mnist/utf-8''mnist.npz\""
   ]
  },
  {
   "cell_type": "code",
   "execution_count": 7,
   "metadata": {},
   "outputs": [],
   "source": [
    "def train():\n",
    "    # callback function\n",
    "    class myCallback(tf.keras.callbacks.Callback):\n",
    "        def on_epoch_end(self, epoch, logs={}):\n",
    "            if(logs.get('accuracy') > 0.99):\n",
    "                print(\"\\n model has reatched  99% accuracy so we are cancelling training\")\n",
    "                self.model.stop_training = True\n",
    "    # initialize the callback function\n",
    "    callbacks = myCallback()\n",
    "    # getting the dataset\n",
    "    (train_images, train_labels), (test_images, test_labels) = tf.keras.datasets.mnist.load_data(path)\n",
    "    # normalizing the dataset\n",
    "    train_images = train_images / 255\n",
    "    test_images = test_images / 255\n",
    "    # creating the model\n",
    "    model = tf.keras.Sequential([\n",
    "        tf.keras.layers.Flatten(input_shape= (28,28)),\n",
    "        tf.keras.layers.Dense(units = 128, activation = tf.nn.relu),\n",
    "        tf.keras.layers.Dense(units = 10, activation = tf.nn.softmax)\n",
    "    ])\n",
    "    # adding loss function , optimizer and metrics to the model\n",
    "    model.compile(loss = 'sparse_categorical_crossentropy', optimizer = 'adam',metrics=['accuracy'])\n",
    "    # model fitting\n",
    "    history = model.fit(train_images, train_labels, epochs = 10, callbacks = [callbacks])\n",
    "    #return history.epoch, history.history['accuracy'][-1]\n",
    "    return history.history"
   ]
  },
  {
   "cell_type": "code",
   "execution_count": 8,
   "metadata": {},
   "outputs": [
    {
     "name": "stdout",
     "output_type": "stream",
     "text": [
      "Train on 60000 samples\n",
      "Epoch 1/10\n",
      "60000/60000 [==============================] - 5s 88us/sample - loss: 0.2552 - accuracy: 0.9264\n",
      "Epoch 2/10\n",
      "60000/60000 [==============================] - 5s 81us/sample - loss: 0.1095 - accuracy: 0.9672\n",
      "Epoch 3/10\n",
      "60000/60000 [==============================] - 5s 80us/sample - loss: 0.0750 - accuracy: 0.9776\n",
      "Epoch 4/10\n",
      "60000/60000 [==============================] - 5s 84us/sample - loss: 0.0560 - accuracy: 0.9828\n",
      "Epoch 5/10\n",
      "60000/60000 [==============================] - 5s 75us/sample - loss: 0.0419 - accuracy: 0.9872\n",
      "Epoch 6/10\n",
      "60000/60000 [==============================] - 5s 76us/sample - loss: 0.0346 - accuracy: 0.9892\n",
      "Epoch 7/10\n",
      "59552/60000 [============================>.] - ETA: 0s - loss: 0.0263 - accuracy: 0.9920\n",
      " model has reatched  99% accuracy so we are cancelling training\n",
      "60000/60000 [==============================] - 5s 77us/sample - loss: 0.0264 - accuracy: 0.9919\n"
     ]
    },
    {
     "data": {
      "text/plain": [
       "{'loss': [0.2551533485348026,\n",
       "  0.10945511573851109,\n",
       "  0.07495483815968036,\n",
       "  0.055955059519720574,\n",
       "  0.041878774212440475,\n",
       "  0.03464634524447999,\n",
       "  0.02638172068204731],\n",
       " 'accuracy': [0.9264167,\n",
       "  0.96716666,\n",
       "  0.97761667,\n",
       "  0.9827667,\n",
       "  0.98718333,\n",
       "  0.9891667,\n",
       "  0.99191666]}"
      ]
     },
     "execution_count": 8,
     "metadata": {},
     "output_type": "execute_result"
    }
   ],
   "source": [
    "train()"
   ]
  },
  {
   "cell_type": "code",
   "execution_count": null,
   "metadata": {},
   "outputs": [],
   "source": []
  }
 ],
 "metadata": {
  "kernelspec": {
   "display_name": "Python [conda env:tensorflow] *",
   "language": "python",
   "name": "conda-env-tensorflow-py"
  },
  "language_info": {
   "codemirror_mode": {
    "name": "ipython",
    "version": 3
   },
   "file_extension": ".py",
   "mimetype": "text/x-python",
   "name": "python",
   "nbconvert_exporter": "python",
   "pygments_lexer": "ipython3",
   "version": "3.6.10"
  }
 },
 "nbformat": 4,
 "nbformat_minor": 4
}
