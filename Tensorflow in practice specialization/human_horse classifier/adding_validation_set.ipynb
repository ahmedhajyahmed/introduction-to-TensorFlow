{
 "cells": [
  {
   "cell_type": "code",
   "execution_count": 1,
   "metadata": {},
   "outputs": [
    {
     "name": "stdout",
     "output_type": "stream",
     "text": [
      "1 Physical GPUs 1 Logical GPUs\n"
     ]
    }
   ],
   "source": [
    "import tensorflow as tf\n",
    "from tensorflow.keras.preprocessing.image import ImageDataGenerator\n",
    "gpus = tf.config.experimental.list_physical_devices('GPU')\n",
    "if gpus :\n",
    "    try:\n",
    "        # memory growth\n",
    "        for gpu in gpus:\n",
    "            tf.config.experimental.set_memory_growth(gpu,True)\n",
    "        logical_gpus = tf.config.experimental.list_logical_devices('GPU')\n",
    "        print(len(gpus), \"Physical GPUs\", len(logical_gpus), 'Logical GPUs' )\n",
    "    except RuntimeError as e:\n",
    "        print(e)"
   ]
  },
  {
   "cell_type": "code",
   "execution_count": 2,
   "metadata": {},
   "outputs": [],
   "source": [
    "model = tf.keras.models.Sequential([\n",
    "    # Note the input shape is the desired size of the image 300x300 with 3 bytes color\n",
    "    # This is the first convolution\n",
    "    tf.keras.layers.Conv2D(16, (3,3), activation='relu', input_shape=(300, 300, 3)),\n",
    "    tf.keras.layers.MaxPooling2D(2, 2),\n",
    "    # The second convolution\n",
    "    tf.keras.layers.Conv2D(32, (3,3), activation='relu'),\n",
    "    tf.keras.layers.MaxPooling2D(2,2),\n",
    "    # The third convolution\n",
    "    tf.keras.layers.Conv2D(64, (3,3), activation='relu'),\n",
    "    tf.keras.layers.MaxPooling2D(2,2),\n",
    "    # The fourth convolution\n",
    "    tf.keras.layers.Conv2D(64, (3,3), activation='relu'),\n",
    "    tf.keras.layers.MaxPooling2D(2,2),\n",
    "    # The fifth convolution\n",
    "    tf.keras.layers.Conv2D(64, (3,3), activation='relu'),\n",
    "    tf.keras.layers.MaxPooling2D(2,2),\n",
    "    # Flatten the results to feed into a DNN\n",
    "    tf.keras.layers.Flatten(),\n",
    "    # 512 neuron hidden layer\n",
    "    tf.keras.layers.Dense(512, activation='relu'),\n",
    "    # Only 1 output neuron. It will contain a value from 0-1 where 0 for 1 class ('horses') and 1 for the other ('humans')\n",
    "    tf.keras.layers.Dense(1, activation='sigmoid')\n",
    "])"
   ]
  },
  {
   "cell_type": "code",
   "execution_count": 3,
   "metadata": {},
   "outputs": [
    {
     "name": "stdout",
     "output_type": "stream",
     "text": [
      "Model: \"sequential\"\n",
      "_________________________________________________________________\n",
      "Layer (type)                 Output Shape              Param #   \n",
      "=================================================================\n",
      "conv2d (Conv2D)              (None, 298, 298, 16)      448       \n",
      "_________________________________________________________________\n",
      "max_pooling2d (MaxPooling2D) (None, 149, 149, 16)      0         \n",
      "_________________________________________________________________\n",
      "conv2d_1 (Conv2D)            (None, 147, 147, 32)      4640      \n",
      "_________________________________________________________________\n",
      "max_pooling2d_1 (MaxPooling2 (None, 73, 73, 32)        0         \n",
      "_________________________________________________________________\n",
      "conv2d_2 (Conv2D)            (None, 71, 71, 64)        18496     \n",
      "_________________________________________________________________\n",
      "max_pooling2d_2 (MaxPooling2 (None, 35, 35, 64)        0         \n",
      "_________________________________________________________________\n",
      "conv2d_3 (Conv2D)            (None, 33, 33, 64)        36928     \n",
      "_________________________________________________________________\n",
      "max_pooling2d_3 (MaxPooling2 (None, 16, 16, 64)        0         \n",
      "_________________________________________________________________\n",
      "conv2d_4 (Conv2D)            (None, 14, 14, 64)        36928     \n",
      "_________________________________________________________________\n",
      "max_pooling2d_4 (MaxPooling2 (None, 7, 7, 64)          0         \n",
      "_________________________________________________________________\n",
      "flatten (Flatten)            (None, 3136)              0         \n",
      "_________________________________________________________________\n",
      "dense (Dense)                (None, 512)               1606144   \n",
      "_________________________________________________________________\n",
      "dense_1 (Dense)              (None, 1)                 513       \n",
      "=================================================================\n",
      "Total params: 1,704,097\n",
      "Trainable params: 1,704,097\n",
      "Non-trainable params: 0\n",
      "_________________________________________________________________\n"
     ]
    }
   ],
   "source": [
    "model.summary()"
   ]
  },
  {
   "cell_type": "code",
   "execution_count": 4,
   "metadata": {},
   "outputs": [],
   "source": [
    "from tensorflow.keras.optimizers import RMSprop\n",
    "model.compile (loss='binary_crossentropy', optimizer= RMSprop(lr=0.001), metrics=['accuracy'])"
   ]
  },
  {
   "cell_type": "code",
   "execution_count": 5,
   "metadata": {},
   "outputs": [
    {
     "name": "stdout",
     "output_type": "stream",
     "text": [
      "Found 1027 images belonging to 2 classes.\n",
      "Found 256 images belonging to 2 classes.\n"
     ]
    }
   ],
   "source": [
    "import os\n",
    "\n",
    "train_dir = f'{os.getcwd()}/train'\n",
    "validation_dir = f'{os.getcwd()}/validation'\n",
    "\n",
    "# All images will be rescaled by 1./255\n",
    "train_datagen = ImageDataGenerator(rescale = 1./255)\n",
    "validation_datagen = ImageDataGenerator(rescale = 1./255)\n",
    "\n",
    "# Flow training images in batches of 128 using train_datagen generator\n",
    "train_generator = train_datagen.flow_from_directory(\n",
    "    train_dir, # This is the source directory for training images\n",
    "    target_size = (300, 300),\n",
    "    batch_size = 8,\n",
    "    class_mode = 'binary' # Since we use binary_crossentropy loss, we need binary labels\n",
    ")\n",
    "\n",
    "validation_generator = validation_datagen.flow_from_directory(\n",
    "    validation_dir,\n",
    "    target_size = (300, 300),\n",
    "    batch_size = 8,\n",
    "    class_mode = 'binary'\n",
    ")"
   ]
  },
  {
   "cell_type": "code",
   "execution_count": 6,
   "metadata": {},
   "outputs": [
    {
     "name": "stdout",
     "output_type": "stream",
     "text": [
      "WARNING:tensorflow:sample_weight modes were coerced from\n",
      "  ...\n",
      "    to  \n",
      "  ['...']\n",
      "WARNING:tensorflow:sample_weight modes were coerced from\n",
      "  ...\n",
      "    to  \n",
      "  ['...']\n",
      "Train for 128 steps, validate for 32 steps\n",
      "Epoch 1/15\n",
      "128/128 [==============================] - 31s 239ms/step - loss: 0.4159 - accuracy: 0.8106 - val_loss: 2.5546 - val_accuracy: 0.7734\n",
      "Epoch 2/15\n",
      "128/128 [==============================] - 25s 193ms/step - loss: 0.3461 - accuracy: 0.9392 - val_loss: 1.6153 - val_accuracy: 0.8281\n",
      "Epoch 3/15\n",
      "128/128 [==============================] - 25s 193ms/step - loss: 0.1216 - accuracy: 0.9647 - val_loss: 1.7486 - val_accuracy: 0.7930\n",
      "Epoch 4/15\n",
      "128/128 [==============================] - 25s 192ms/step - loss: 0.0980 - accuracy: 0.9764 - val_loss: 2.6978 - val_accuracy: 0.8594\n",
      "Epoch 5/15\n",
      "128/128 [==============================] - 25s 192ms/step - loss: 0.1257 - accuracy: 0.9784 - val_loss: 2.7424 - val_accuracy: 0.7227\n",
      "Epoch 6/15\n",
      "128/128 [==============================] - 25s 193ms/step - loss: 0.0697 - accuracy: 0.9863 - val_loss: 2.7928 - val_accuracy: 0.7891\n",
      "Epoch 7/15\n",
      "128/128 [==============================] - 25s 193ms/step - loss: 0.0858 - accuracy: 0.9921 - val_loss: 4.9667 - val_accuracy: 0.9023\n",
      "Epoch 8/15\n",
      "128/128 [==============================] - 25s 194ms/step - loss: 0.0527 - accuracy: 0.9931 - val_loss: 4.4434 - val_accuracy: 0.8633\n",
      "Epoch 9/15\n",
      "128/128 [==============================] - 25s 193ms/step - loss: 0.1081 - accuracy: 0.9892 - val_loss: 3.0065 - val_accuracy: 0.8828\n",
      "Epoch 10/15\n",
      "128/128 [==============================] - 25s 193ms/step - loss: 0.0293 - accuracy: 0.9980 - val_loss: 3.2092 - val_accuracy: 0.8555\n",
      "Epoch 11/15\n",
      "128/128 [==============================] - 25s 196ms/step - loss: 0.0780 - accuracy: 0.9921 - val_loss: 9.8843 - val_accuracy: 0.8672\n",
      "Epoch 12/15\n",
      "128/128 [==============================] - 25s 195ms/step - loss: 9.1977e-09 - accuracy: 1.0000 - val_loss: 8.6565 - val_accuracy: 0.8672\n",
      "Epoch 13/15\n",
      "128/128 [==============================] - 25s 195ms/step - loss: 0.1477 - accuracy: 0.9902 - val_loss: 12.4432 - val_accuracy: 0.8359\n",
      "Epoch 14/15\n",
      "128/128 [==============================] - 25s 194ms/step - loss: 0.3596 - accuracy: 0.9951 - val_loss: 4.4640 - val_accuracy: 0.8516\n",
      "Epoch 15/15\n",
      "128/128 [==============================] - 25s 193ms/step - loss: 0.0345 - accuracy: 0.9980 - val_loss: 5.5823 - val_accuracy: 0.8555\n"
     ]
    }
   ],
   "source": [
    "history = model.fit(\n",
    "    train_generator,\n",
    "    steps_per_epoch = 128,\n",
    "    epochs = 15,\n",
    "    validation_data = validation_generator,\n",
    "    validation_steps = 32,\n",
    "    verbose = 1\n",
    ")"
   ]
  },
  {
   "cell_type": "code",
   "execution_count": 22,
   "metadata": {},
   "outputs": [
    {
     "name": "stdout",
     "output_type": "stream",
     "text": [
      "[0.]\n",
      "C:\\Users\\ASUS\\Desktop\\deep learning code\\Tensorflow in practice specialization\\course 1 introduction to tensorflow\\week4/internet_images/image6.jpg is a horse\n"
     ]
    }
   ],
   "source": [
    "import numpy as np\n",
    "from keras.preprocessing import image\n",
    "import os\n",
    "\n",
    "current_dir = os.getcwd()\n",
    "image_name = 'image6.jpg'\n",
    "path = f'{current_dir}/internet_images/{image_name}'\n",
    "img = image.load_img(path, target_size= (300,300))\n",
    "x = image.img_to_array(img)\n",
    "x = np.expand_dims(x, axis=0)\n",
    "images = np.vstack([x])\n",
    "classes = model.predict(images, batch_size=10)\n",
    "print(classes[0])\n",
    "if(classes[0]>0.5):\n",
    "    print(path+\" is a human\")\n",
    "else:\n",
    "    print(path+\" is a horse\")\n"
   ]
  },
  {
   "cell_type": "code",
   "execution_count": null,
   "metadata": {},
   "outputs": [],
   "source": [
    "import os, signal\n",
    "os.kill(os.getpid(), signal.SIGTERM)"
   ]
  },
  {
   "cell_type": "code",
   "execution_count": null,
   "metadata": {},
   "outputs": [],
   "source": []
  }
 ],
 "metadata": {
  "kernelspec": {
   "display_name": "Python [conda env:tensorflow] *",
   "language": "python",
   "name": "conda-env-tensorflow-py"
  },
  "language_info": {
   "codemirror_mode": {
    "name": "ipython",
    "version": 3
   },
   "file_extension": ".py",
   "mimetype": "text/x-python",
   "name": "python",
   "nbconvert_exporter": "python",
   "pygments_lexer": "ipython3",
   "version": "3.6.10"
  }
 },
 "nbformat": 4,
 "nbformat_minor": 4
}
